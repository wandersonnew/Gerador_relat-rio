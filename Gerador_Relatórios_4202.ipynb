{
  "nbformat": 4,
  "nbformat_minor": 0,
  "metadata": {
    "colab": {
      "provenance": []
    },
    "kernelspec": {
      "name": "python3",
      "display_name": "Python 3"
    },
    "language_info": {
      "name": "python"
    }
  },
  "cells": [
    {
      "cell_type": "markdown",
      "source": [
        "# Tratamento de dados gerados pelo relatório Sabius\n",
        "\n",
        "*link:* https://aplsabius.unimedfortaleza.com.br/sabius-gerador-relatorio-web/pages/adminrelatorios/index.jsf\n",
        "\n",
        "#### códigos para usar os relatórios: [4202, 4203, 4206, 4225]\n",
        "\n",
        "*link:* https://app.conexasaude.com.br/login"
      ],
      "metadata": {
        "id": "YN3tLPKg1S-S"
      }
    },
    {
      "cell_type": "markdown",
      "source": [
        "### Titular\n",
        "Nome Completo (Obrigatório)\n",
        "CPF (Obrigatório)\n",
        "Data de Nascimento (dd/mm/aaaa) (Obrigatório)\n",
        "E-mail (Opcional)\n",
        "Telefone (Com DDD) (Opcional)\n",
        "Dado adicional (Opcional)\n",
        "Nº Carteira Convênio (Opcional)\n",
        "Plano (Opcional)\n",
        "Empresa (Opcional)\n",
        "Departamento (Opcional)\n",
        "Cargo (Opcional)\n",
        "Matricula (Opcional)\n",
        "Endereço (Opcional)\n",
        "Número (Opcional)\n",
        "Complemento (Opcional)\n",
        "Bairro (Opcional)\n",
        "Cidade (Opcional)\n",
        "UF (Opcional)\n",
        "CEP (Opcional)\n",
        "Sexo (Opcional) (M, F, OUTRO)"
      ],
      "metadata": {
        "id": "cILceTsT7PZY"
      }
    },
    {
      "cell_type": "code",
      "source": [
        "import pandas as pd\n",
        "import numpy as np"
      ],
      "metadata": {
        "id": "TiwwC0eD1qPm"
      },
      "execution_count": null,
      "outputs": []
    },
    {
      "cell_type": "code",
      "source": [
        "data = pd.read_csv('Cadastros.CSV', encoding='latin-1', sep=';')"
      ],
      "metadata": {
        "id": "8tOQI8C42aPr"
      },
      "execution_count": null,
      "outputs": []
    },
    {
      "cell_type": "code",
      "source": [
        "df = data.fillna('')"
      ],
      "metadata": {
        "id": "7LQJdTxu5GRe"
      },
      "execution_count": null,
      "outputs": []
    },
    {
      "cell_type": "code",
      "source": [
        "t = {\n",
        "    'Nome Completo': df['Nome'].str.upper(),\n",
        "    'CPF': df['cpf_benef'].astype(str).str.zfill(11),\n",
        "    'Data de Nascimento': pd.to_datetime(df['data_nasc']).dt.strftime('%d/%m/%Y'),\n",
        "    'E-mail': df['EMAIL'],\n",
        "    'Telefone': df['CELULAR'].astype(str).str.lstrip('55').str[:-2] ,\n",
        "    'Sexo': df['genero']\n",
        "}\n",
        "\n",
        "dft = pd.DataFrame(t)\n",
        "\n",
        "dft.head(20)\n",
        "\n",
        "# Nome Completo (Obrigatório)\n",
        "# CPF (Obrigatório)\n",
        "# Data de Nascimento (dd/mm/aaaa) (Obrigatório)\n",
        "# E-mail (Opcional)\n",
        "# Telefone (Com DDD) (Opcional)\n",
        "# Dado adicional (Opcional)\n",
        "# Nº Carteira Convênio (Opcional)\n",
        "# Plano (Opcional)\n",
        "# Empresa (Opcional)\n",
        "# Departamento (Opcional)\n",
        "# Cargo (Opcional)\n",
        "# Matricula (Opcional)\n",
        "# Endereço (Opcional)\n",
        "# Número (Opcional)\n",
        "# Complemento (Opcional)\n",
        "# Bairro (Opcional)\n",
        "# Cidade (Opcional)\n",
        "# UF (Opcional)\n",
        "# CEP (Opcional)\n",
        "# Sexo (Opcional) (M, F, OUTRO)"
      ],
      "metadata": {
        "id": "6wRBSEXN7bWG"
      },
      "execution_count": null,
      "outputs": []
    },
    {
      "cell_type": "code",
      "source": [
        "dft.to_excel(\"cadastro_titulares.xlsx\", sheet_name='Sheet_name_1', index=False)"
      ],
      "metadata": {
        "id": "BVPFj8NKNnb4"
      },
      "execution_count": null,
      "outputs": []
    }
  ]
}